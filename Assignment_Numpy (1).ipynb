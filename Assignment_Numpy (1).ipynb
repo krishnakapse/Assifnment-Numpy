{
  "nbformat": 4,
  "nbformat_minor": 0,
  "metadata": {
    "colab": {
      "provenance": []
    },
    "kernelspec": {
      "name": "python3",
      "display_name": "Python 3"
    },
    "language_info": {
      "name": "python"
    }
  },
  "cells": [
    {
      "cell_type": "markdown",
      "source": [
        "#**Assignment - Numpy**\n",
        "\n",
        "**Therotical Problem**\n"
      ],
      "metadata": {
        "id": "TitwhmZZuUvH"
      }
    },
    {
      "cell_type": "markdown",
      "source": [
        "**Q.1**- Explain the purpose and advantages of NumPy in scientific computing and data analysis. How does it enhance Python's capabilities for numerical operations?"
      ],
      "metadata": {
        "id": "mgLj1IBvvl3Z"
      }
    },
    {
      "cell_type": "markdown",
      "source": [
        "**Ans:**- NumPy (Numerical Python) is a library that adds support for large, multi-dimensional arrays and matrices, along with a wide range of high-performance mathematical functions to operate on them.\n",
        "\n",
        "**Purpose:**-The purpose of NumPy is to provide a robust and efficient way to perform numerical computations in Python, making it an essential tool for scientific computing and data analysis.\n",
        "\n",
        "**Advantages:**- Speed: NumPy operations are implemented in C, allowing them to run faster than pure Python loops. This is especially important for large datasets where performance is crucial.\n",
        "\n",
        "Memory Efficiency: NumPy arrays require less memory than Python lists due to their fixed data type and contiguous memory allocation, making them more efficient for large-scale data storage.\n",
        "\n",
        "Broadcasting: NumPy supports broadcasting, which allows operations to be performed on arrays of different shapes without explicit looping. This feature simplifies coding and enhances performance.\n",
        "\n",
        "**NumPy enhances Python's capabilities for numerical operations in several ways:**\n",
        "\n",
        "1. Multi-dimensional arrays: NumPy introduces support for multi-dimensional arrays, enabling efficient storage and manipulation of large datasets.\n",
        "2. Vectorized operations: NumPy's vectorized operations allow for fast and concise computations on entire arrays, reducing the need for loops.\n",
        "3. High-performance functions: NumPy provides an extensive range of optimized mathematical functions, including linear algebra, Fourier transform, and random number generation.\n"
      ],
      "metadata": {
        "id": "xRLwYf1BwU2m"
      }
    },
    {
      "cell_type": "markdown",
      "source": [
        "**Q.2** Compare and contrast np.mean() and np.average() functions in NumPy. When would you use one over the\n",
        "other?\n",
        "\n"
      ],
      "metadata": {
        "id": "v__MwJ60xgxr"
      }
    },
    {
      "cell_type": "markdown",
      "source": [
        "**Ans:**-NumPy's np.mean() and np.average() functions both calculate the average of an array, but they have some subtle differences:\n",
        "\n",
        "**np.mean():**\n",
        "\n",
        "- Calculates the arithmetic mean of the array elements.\n",
        "- Ignores NaN (Not a Number) values.\n",
        "- Has no axis parameter, so it always calculates the mean of the entire array.\n",
        "\n",
        "**np.average():**\n",
        "\n",
        "- Calculates the weighted average of the array elements.\n",
        "- Allows for specifying weights for each element.\n",
        "- Has an axis parameter, so you can calculate the average along a specific axis.\n",
        "- If weights are not provided, it defaults to the arithmetic mean (same as np.mean()).\n",
        "\n",
        "- **Use np.mean()** when you want the simple arithmetic mean of the entire array, ignoring NaN values.\n",
        "- **Use np.average()** when You need to calculate the weighted average. You want to specify the axis for calculating the average.\n"
      ],
      "metadata": {
        "id": "jyRttZJcxm6S"
      }
    },
    {
      "cell_type": "markdown",
      "source": [
        "**Q.3** Describe the methods for reversing a NumPy array along different axes. Provide examples for 1D and 2D\n",
        "arrays.\n",
        "\n"
      ],
      "metadata": {
        "id": "9iiwxUvyzMP-"
      }
    },
    {
      "cell_type": "markdown",
      "source": [
        "**Ans:**- Reversing a 1D Array\n",
        "To reverse a 1D array, you can use slicing. The syntax array[::-1] effectively reverses the order of elements.\n",
        "\n",
        "Ex.\n"
      ],
      "metadata": {
        "id": "XfRuYJfjzZGu"
      }
    },
    {
      "cell_type": "code",
      "execution_count": null,
      "metadata": {
        "colab": {
          "base_uri": "https://localhost:8080/"
        },
        "id": "6ft9rW4-sjtI",
        "outputId": "4be5669e-e4ad-49be-b85c-42f2c87156a2"
      },
      "outputs": [
        {
          "output_type": "stream",
          "name": "stdout",
          "text": [
            "[5 4 3 2 1]\n"
          ]
        }
      ],
      "source": [
        "import numpy as np\n",
        "\n",
        "arr = np.array([1, 2, 3, 4, 5])\n",
        "reversed_arr = arr[::-1]\n",
        "print(reversed_arr)\n",
        "\n",
        "# 1D array"
      ]
    },
    {
      "cell_type": "code",
      "source": [
        "arr1 = np.array([[1, 2, 3], #2D array\n",
        "                 [4, 5,6]])\n",
        "reversed_rows = arr1[::-1] #axis = 0\n",
        "reversed_columns = arr1[:, ::-1] #axis = 1\n",
        "print(\"Original array:\\n\", arr1)\n",
        "print(\"Reversed along rows:\\n\", reversed_rows )\n",
        "print(\"Reversed along columns:\\n\", reversed_columns)"
      ],
      "metadata": {
        "colab": {
          "base_uri": "https://localhost:8080/"
        },
        "id": "Tyxt44uA16iQ",
        "outputId": "4c6b2468-7356-45f8-eda5-3476f2c61edb"
      },
      "execution_count": null,
      "outputs": [
        {
          "output_type": "stream",
          "name": "stdout",
          "text": [
            "Original array:\n",
            " [[1 2 3]\n",
            " [4 5 6]]\n",
            "Reversed along rows:\n",
            " [[4 5 6]\n",
            " [1 2 3]]\n",
            "Reversed along columns:\n",
            " [[3 2 1]\n",
            " [6 5 4]]\n"
          ]
        }
      ]
    },
    {
      "cell_type": "markdown",
      "source": [
        "**Q.4** How can you determine the data type of elements in a NumPy array? Discuss the importance of data types\n",
        "in memory management and performance.\n",
        "\n"
      ],
      "metadata": {
        "id": "-OlkAM2C4OYs"
      }
    },
    {
      "cell_type": "code",
      "source": [
        "#Ans:- You can determine the data type of elements in a NumPy array using the dtype attribute:\n",
        "\n",
        "\n",
        "import numpy as np\n",
        "\n",
        "arr = np.array([1, 2, 3, 4, 5])\n",
        "print(arr.dtype)  # Output: int32\n",
        "\n",
        "arr = np.array(['apple', 'banana', 'cherry'])\n",
        "print(arr.dtype)  # Output: <U6"
      ],
      "metadata": {
        "colab": {
          "base_uri": "https://localhost:8080/"
        },
        "id": "08AHsEzb2tPJ",
        "outputId": "78b88131-de9e-428b-f399-35fda39876d7"
      },
      "execution_count": 13,
      "outputs": [
        {
          "output_type": "stream",
          "name": "stdout",
          "text": [
            "int64\n",
            "<U6\n"
          ]
        }
      ]
    },
    {
      "cell_type": "markdown",
      "source": [
        "Data types are crucial in memory management and performance for several reasons:\n",
        "\n",
        "1. Memory allocation: NumPy arrays are stored in contiguous blocks of memory. Knowing the data type allows NumPy to allocate the appropriate amount of memory for each element.\n",
        "\n",
        "2. Memory efficiency: Using the correct data type can reduce memory usage. For example, using int8 instead of int32 for small integers can save memory.\n",
        "\n",
        "3. Performance: Certain operations are optimized for specific data types. Using the correct data type can lead to faster execution.\n",
        "\n",
        "4. Type safety: Data types help prevent type-related errors. For example, attempting to store a float in an integer array will raise an error.\n",
        "\n",
        "5. Interoperability: Data types ensure compatibility with other libraries and languages.\n",
        "\n"
      ],
      "metadata": {
        "id": "jJVuoH255m00"
      }
    },
    {
      "cell_type": "markdown",
      "source": [
        "**Q.5** Define ndarrays in NumPy and explain their key features. How do they differ from standard Python lists?\n",
        "\n"
      ],
      "metadata": {
        "id": "kcXMcpeu5plO"
      }
    },
    {
      "cell_type": "markdown",
      "source": [
        "**Ans:**- In NumPy, ndarrays (n-dimensional arrays) are the core data structure used for storing and manipulating numerical data. They are highly efficient and optimized for performance in scientific computing and data analysis. Here’s a detailed explanation of ndarrays and their key features, along with a comparison to standard Python lists.\n",
        "\n",
        "Key features:\n",
        "1. Homogeneous: All elements are of the same data type (e.g., int, float, complex).\n",
        "2. Multi-dimensional: Can have one or more dimensions (axes).\n",
        "3. Fixed size: Size is defined at creation and cannot be changed.\n",
        "4. Contiguous memory: Elements are stored in contiguous memory blocks.\n",
        "5. Vectorized operations: Supports element-wise operations (e.g., arithmetic, comparison).\n",
        "6. Broadcasting: Allows operations with differently shaped arrays.\n",
        "\n",
        "Differences from standard Python lists:\n",
        "\n",
        "1. Homogeneity: Lists can store elements of different types.\n",
        "2. Dynamic size: Lists can grow or shrink dynamically.\n",
        "3. Non-contiguous memory: Elements are stored in separate memory locations.\n",
        "4. No vectorized operations: Element-wise operations are not supported.\n",
        "5. No broadcasting: Operations require identical shapes.\n",
        "\n",
        "\n"
      ],
      "metadata": {
        "id": "pw-GM6io520b"
      }
    },
    {
      "cell_type": "markdown",
      "source": [
        "**Q.6** Analyze the performance benefits of NumPy arrays over Python lists for large-scale numerical operations"
      ],
      "metadata": {
        "id": "qZxEJnxQ7VmW"
      }
    },
    {
      "cell_type": "markdown",
      "source": [
        "**Ans:**- NumPy arrays offer several performance benefits over Python lists for large-scale numerical operations:\n",
        "\n",
        "1. Speed: NumPy arrays are significantly faster than Python lists for numerical operations due to their vectorized nature and optimized C code.\n",
        "\n",
        "2. Memory efficiency: NumPy arrays store data in contiguous memory blocks, reducing memory usage and improving cache utilization.\n",
        "\n",
        "3. Vectorized operations: NumPy arrays support element-wise operations, eliminating the need for loops and reducing overhead.\n",
        "\n",
        "4. Parallelization: NumPy arrays can be easily parallelized using libraries like Numexpr, Numba, or Cython, taking advantage of multi-core processors.\n",
        "\n",
        "5. Optimized functions: NumPy provides optimized functions for common numerical operations, such as linear algebra and Fourier transforms.\n",
        "\n",
        "6. Interoperability: NumPy arrays can be easily converted to and from other formats, like Pandas DataFrames and SciPy sparse matrices.\n",
        "\n",
        "In contrast, Python lists are:\n",
        "\n",
        "1. Slower: Python lists are slower due to their dynamic nature and overhead from Python's interpreter.\n",
        "\n",
        "2. More memory-intensive: Python lists store elements as separate objects, consuming more memory.\n",
        "3. Less efficient: Python lists require explicit loops for element-wise operations, increasing overhead.\n"
      ],
      "metadata": {
        "id": "gbzaGDXR8-Uy"
      }
    },
    {
      "cell_type": "markdown",
      "source": [
        "**Q.7** Compare vstack() and hstack() functions in NumPy. Provide examples demonstrating their usage and\n",
        "output.\n",
        "\n"
      ],
      "metadata": {
        "id": "SXuzch3B9OZr"
      }
    },
    {
      "cell_type": "markdown",
      "source": [
        "**Ans:-** NumPy's vstack() and hstack() functions are used to stack arrays vertically and horizontally, respectively.\n",
        "\n",
        "**vstack()**\n",
        "\n",
        "- Stacks arrays in sequence vertically (row-wise).\n",
        "- Takes a tuple of arrays as input.\n",
        "- Output array has shape (M, N), where M is the sum of the number of rows in the input arrays, and N is the number of columns in the input arrays.\n",
        "\n",
        "**hstack()**\n",
        "\n",
        "- Stacks arrays in sequence horizontally (column-wise).\n",
        "- Takes a tuple of arrays as input.\n",
        "- Output array has shape (M, N), where M is the number of rows in the input arrays, and N is the sum of the number of columns in the input arrays.\n"
      ],
      "metadata": {
        "id": "zE6wfpH89xZd"
      }
    },
    {
      "cell_type": "code",
      "source": [
        "#Example:\n",
        "\n",
        "import numpy as np\n",
        "\n",
        "a = np.array([1, 2, 3])\n",
        "b = np.array([4, 5, 6])\n",
        "\n",
        "print(np.vstack((a, b)))  # Output: [[1 2 3] [4 5 6]]\n",
        "\n",
        "a = np.array([1, 2, 3])\n",
        "b = np.array([4, 5, 6])\n",
        "\n",
        "print(np.hstack((a, b)))  # Output: [[1 2 3 4 5 6]]\n",
        "\n"
      ],
      "metadata": {
        "colab": {
          "base_uri": "https://localhost:8080/"
        },
        "id": "_yCu7fE_5atI",
        "outputId": "eb53332d-a57d-4a68-a2c0-8a2ecdb22fcd"
      },
      "execution_count": null,
      "outputs": [
        {
          "output_type": "stream",
          "name": "stdout",
          "text": [
            "[[1 2 3]\n",
            " [4 5 6]]\n",
            "[1 2 3 4 5 6]\n"
          ]
        }
      ]
    },
    {
      "cell_type": "markdown",
      "source": [
        "**Q.8** Explain the differences between fliplr() and flipud() methods in NumPy, including their effects on various\n",
        "array dimensions.\n",
        "\n"
      ],
      "metadata": {
        "id": "VMASflMT-TaK"
      }
    },
    {
      "cell_type": "markdown",
      "source": [
        "**Ans:**-NumPy's fliplr() and flipud() methods are used to reverse the order of elements in an array along a specific axis.\n",
        "\n",
        "**fliplr():**\n",
        "\n",
        "- Reverses the order of elements along the horizontal axis (axis=1).\n",
        "- Flips the array from left to right.\n",
        "- Has no effect on the vertical axis (axis=0).\n",
        "\n",
        "**flipud():**\n",
        "\n",
        "- Reverses the order of elements along the vertical axis (axis=0).\n",
        "- Flips the array from top to bottom.\n",
        "- Has no effect on the horizontal axis (axis=1).\n",
        "\n",
        "Effects on various array dimensions:\n",
        "\n",
        "- 1D array: Both fliplr() and flipud() reverse the order of elements.\n",
        "- 2D array:\n",
        "    - fliplr() flips the array horizontally, reversing the order of columns.\n",
        "    - flipud() flips the array vertically, reversing the order of rows.\n",
        "- 3D array:\n",
        "    - fliplr() flips the array horizontally, reversing the order of columns in each plane.\n",
        "    - flipud() flips the array vertically, reversing the order of rows in each plane.\n",
        "\n"
      ],
      "metadata": {
        "id": "jcRFxAJE-dRd"
      }
    },
    {
      "cell_type": "markdown",
      "source": [
        "**Q.9** Discuss the functionality of the array_split() method in NumPy. How does it handle uneven splits?\n"
      ],
      "metadata": {
        "id": "oFe7kRSi_Ak6"
      }
    },
    {
      "cell_type": "markdown",
      "source": [
        "**Ans:**- he array_split() method in NumPy splits an array into multiple sub-arrays along a specified axis. It takes three arguments:\n",
        "\n",
        "1. ary: the input array\n",
        "2. indices_or_sections: the number of splits or the indices at which to split\n",
        "3. axis: the axis along which to split (default is 0)\n",
        "\n",
        "Functionality:\n",
        "\n",
        "- If indices_or_sections is an integer, the array is split into that many equal parts along the specified axis.\n",
        "- If indices_or_sections is a list of integers, the array is split at those indices along the specified axis.\n",
        "\n",
        "Handling uneven splits:\n",
        "\n",
        "- If the length of the array is not divisible by the number of splits, the remaining elements are distributed evenly among the sub-arrays.\n",
        "- If the number of splits is greater than the length of the array, some sub-arrays will be empty.\n",
        "\n",
        "Examples:\n",
        "\n",
        "- np.array_split(ary, 3, axis=0): Split the array into 3 equal parts along the first axis.\n",
        "- np.array_split(ary, [2, 5], axis=0): Split the array at indices 2 and 5 along the first axis.\n",
        "\n"
      ],
      "metadata": {
        "id": "jjXHrL1Y_KL2"
      }
    },
    {
      "cell_type": "markdown",
      "source": [
        "**Q.10** Explain the concepts of vectorization and broadcasting in NumPy. How do they contribute to efficient array\n",
        "operations?\n"
      ],
      "metadata": {
        "id": "_r5RqKV2_cfe"
      }
    },
    {
      "cell_type": "markdown",
      "source": [
        "**Ans:**- Vectorization and broadcasting are two fundamental concepts in NumPy that enable efficient array operations.\n",
        "\n",
        "Vectorization:\n",
        "\n",
        "- Refers to the ability to perform operations on entire arrays without the need for explicit loops.\n",
        "- NumPy's vectorized operations work on entire arrays, applying the operation element-wise.\n",
        "- This leads to significant speedups and reduced memory usage.\n",
        "\n",
        "Broadcasting:\n",
        "\n",
        "- Allows arrays with different shapes and sizes to be combined in operations.\n",
        "- NumPy broadcasts arrays to compatible shapes by replicating elements.\n",
        "- This enables operations between arrays with different dimensions.\n",
        "\n",
        "Contribution to efficient array operations:\n",
        "\n",
        "- Vectorization:\n",
        "    - Eliminates the need for explicit loops, reducing overhead.\n",
        "    - Utilizes optimized C code for operations.\n",
        "- Broadcasting:\n",
        "    - Enables operations between arrays with different dimensions.\n",
        "    - Reduces memory usage by avoiding unnecessary copies.\n"
      ],
      "metadata": {
        "id": "jl0AKGcN_vFs"
      }
    },
    {
      "cell_type": "markdown",
      "source": [
        "#**Numerical Problems**"
      ],
      "metadata": {
        "id": "RtY2tT52AWSg"
      }
    },
    {
      "cell_type": "markdown",
      "source": [
        "**Q.1** Create a 3x3 NumPy array with random integers between 1 and 100. Then, interchange its rows and columns."
      ],
      "metadata": {
        "id": "FeNliIepAdwX"
      }
    },
    {
      "cell_type": "code",
      "source": [
        "import numpy as np\n",
        "#Create a 3x3 NumPy array with random integers between 1 and 100\n",
        "\n",
        "array = np.random.randint(1, 101, (3, 3))\n",
        "print(\"Original array:\")\n",
        "print(array)\n",
        "\n",
        "#Interchange rows and columns (transpose the array)\n",
        "transposed_array = array.T\n",
        "print(\"Transposed array:\")\n",
        "print(transposed_array)\n",
        "\n"
      ],
      "metadata": {
        "id": "kY_oRTo9-P--",
        "colab": {
          "base_uri": "https://localhost:8080/"
        },
        "outputId": "7749d78d-7db2-490e-b3a8-123dd7069900"
      },
      "execution_count": 2,
      "outputs": [
        {
          "output_type": "stream",
          "name": "stdout",
          "text": [
            "Original array:\n",
            "[[ 7 10 83]\n",
            " [ 3 62 85]\n",
            " [93 13 61]]\n",
            "Transposed array:\n",
            "[[ 7  3 93]\n",
            " [10 62 13]\n",
            " [83 85 61]]\n"
          ]
        }
      ]
    },
    {
      "cell_type": "markdown",
      "source": [
        "**Q.2** Generate a 1D NumPy array with 10 elements. Reshape it into a 2x5 array, then into a 5x2 array."
      ],
      "metadata": {
        "id": "b7Jri_KGCKaw"
      }
    },
    {
      "cell_type": "code",
      "source": [
        "import numpy as np\n",
        "\n",
        "# Generate a 1D NumPy array with 10 elements\n",
        "array_1d = np.arange(1, 11)\n",
        "print(\"1D array:\")\n",
        "print(array_1d)\n",
        "\n",
        "# Reshape into a 2x5 array\n",
        "array_2x5 = array_1d.reshape(2, 5)\n",
        "print(\"2x5 array:\")\n",
        "print(array_2x5)\n",
        "\n",
        "# Reshape into a 5x2 array\n",
        "array_5x2 = array_1d.reshape(5, 2)\n",
        "print(\"5x2 array:\")\n",
        "print(array_5x2)\n",
        "\n"
      ],
      "metadata": {
        "colab": {
          "base_uri": "https://localhost:8080/"
        },
        "id": "hJmNeAvyBvTP",
        "outputId": "5e9f5e52-e263-45ba-bad1-f7598819a71a"
      },
      "execution_count": 3,
      "outputs": [
        {
          "output_type": "stream",
          "name": "stdout",
          "text": [
            "1D array:\n",
            "[ 1  2  3  4  5  6  7  8  9 10]\n",
            "2x5 array:\n",
            "[[ 1  2  3  4  5]\n",
            " [ 6  7  8  9 10]]\n",
            "5x2 array:\n",
            "[[ 1  2]\n",
            " [ 3  4]\n",
            " [ 5  6]\n",
            " [ 7  8]\n",
            " [ 9 10]]\n"
          ]
        }
      ]
    },
    {
      "cell_type": "markdown",
      "source": [
        "**Q.3** Create a 4x4 NumPy array with random float values. Add a border of zeros around it, resulting in a 6x6 array."
      ],
      "metadata": {
        "id": "xTOIv860CgdO"
      }
    },
    {
      "cell_type": "code",
      "source": [
        "import numpy as np\n",
        "\n",
        "# Create a 4x4 NumPy array with random float values\n",
        "array_4x4 = np.random.rand(4, 4)\n",
        "print(\"4x4 array:\")\n",
        "print(array_4x4)\n",
        "\n",
        "# Add a border of zeros around it, resulting in a 6x6 array\n",
        "array_6x6 = np.pad(array_4x4, 1, mode='constant')\n",
        "print(\"6x6 array:\")\n",
        "print(array_6x6)\n",
        "\n"
      ],
      "metadata": {
        "colab": {
          "base_uri": "https://localhost:8080/"
        },
        "id": "uc7ezBZuCb2I",
        "outputId": "f0a8f086-0f2c-42d2-f127-c83ba76afb40"
      },
      "execution_count": 4,
      "outputs": [
        {
          "output_type": "stream",
          "name": "stdout",
          "text": [
            "4x4 array:\n",
            "[[0.33681019 0.68062891 0.58909288 0.72813131]\n",
            " [0.03936408 0.56289595 0.50437831 0.90967624]\n",
            " [0.63098754 0.29542487 0.59116955 0.48739937]\n",
            " [0.39368162 0.96359189 0.3644128  0.86494932]]\n",
            "6x6 array:\n",
            "[[0.         0.         0.         0.         0.         0.        ]\n",
            " [0.         0.33681019 0.68062891 0.58909288 0.72813131 0.        ]\n",
            " [0.         0.03936408 0.56289595 0.50437831 0.90967624 0.        ]\n",
            " [0.         0.63098754 0.29542487 0.59116955 0.48739937 0.        ]\n",
            " [0.         0.39368162 0.96359189 0.3644128  0.86494932 0.        ]\n",
            " [0.         0.         0.         0.         0.         0.        ]]\n"
          ]
        }
      ]
    },
    {
      "cell_type": "markdown",
      "source": [
        "**Q.4** Using NumPy, create an array of integers from 10 to 60 with a step of 5."
      ],
      "metadata": {
        "id": "bFaxCV72DKTm"
      }
    },
    {
      "cell_type": "code",
      "source": [
        "import numpy as np\n",
        "\n",
        "# Create an array of integers from 10 to 60 with a step of 5\n",
        "array = np.arange(10, 61, 5)\n",
        "print(array)\n"
      ],
      "metadata": {
        "colab": {
          "base_uri": "https://localhost:8080/"
        },
        "id": "6iwcIA9mC-Sl",
        "outputId": "21e6312d-e8a3-4ac7-86b9-7475b83b6354"
      },
      "execution_count": 5,
      "outputs": [
        {
          "output_type": "stream",
          "name": "stdout",
          "text": [
            "[10 15 20 25 30 35 40 45 50 55 60]\n"
          ]
        }
      ]
    },
    {
      "cell_type": "markdown",
      "source": [
        "**Q.5** Create a NumPy array of strings ['python', 'numpy', 'pandas']. Apply different case transformations (uppercase, lowercase, title case, etc.) to each element."
      ],
      "metadata": {
        "id": "56zCGb0pDdBr"
      }
    },
    {
      "cell_type": "code",
      "source": [
        "import numpy as np\n",
        "\n",
        "# Create a NumPy array of strings\n",
        "array = np.array(['python', 'numpy', 'pandas'])\n",
        "\n",
        "# Apply different case transformations\n",
        "uppercase = np.char.upper(array)\n",
        "lowercase =np.char.lower( array)\n",
        "title_case = np.char.title(array)\n",
        "capitalize = np.char.capitalize(array)\n",
        "\n",
        "print(\"Original array:\")\n",
        "print(array)\n",
        "print(\"Uppercase:\")\n",
        "print(uppercase)\n",
        "print(\"Lowercase:\")\n",
        "print(lowercase)\n",
        "print(\"Title case:\")\n",
        "print(title_case)\n",
        "print(\"Capitalize:\")\n",
        "print(capitalize)\n",
        "\n"
      ],
      "metadata": {
        "colab": {
          "base_uri": "https://localhost:8080/"
        },
        "id": "u4iXm-BJDbmG",
        "outputId": "077dd5de-fe05-449c-9fa9-9eb7d722f41d"
      },
      "execution_count": 7,
      "outputs": [
        {
          "output_type": "stream",
          "name": "stdout",
          "text": [
            "Original array:\n",
            "['python' 'numpy' 'pandas']\n",
            "Uppercase:\n",
            "['PYTHON' 'NUMPY' 'PANDAS']\n",
            "Lowercase:\n",
            "['python' 'numpy' 'pandas']\n",
            "Title case:\n",
            "['Python' 'Numpy' 'Pandas']\n",
            "Capitalize:\n",
            "['Python' 'Numpy' 'Pandas']\n"
          ]
        }
      ]
    },
    {
      "cell_type": "markdown",
      "source": [
        "**Q.6** Generate a NumPy array of words. Insert a space between each character of every word in the array."
      ],
      "metadata": {
        "id": "8OO3JPPTErAQ"
      }
    },
    {
      "cell_type": "code",
      "source": [
        "import numpy as np\n",
        "\n",
        "# Generate a NumPy array of words\n",
        "words = np.array(['hello', 'world', 'numpy', 'array'])\n",
        "\n",
        "# Insert a space between each character of every word\n",
        "spaced_words = np.array([(' '.join(word)) for word in words])\n",
        "\n",
        "print(spaced_words)\n"
      ],
      "metadata": {
        "colab": {
          "base_uri": "https://localhost:8080/"
        },
        "id": "xv4MUmsvD4V1",
        "outputId": "03256436-1d0c-417b-dd7c-5b13340b5933"
      },
      "execution_count": 8,
      "outputs": [
        {
          "output_type": "stream",
          "name": "stdout",
          "text": [
            "['h e l l o' 'w o r l d' 'n u m p y' 'a r r a y']\n"
          ]
        }
      ]
    },
    {
      "cell_type": "markdown",
      "source": [
        "**Q.7** Create two 2D NumPy arrays and perform element-wise addition, subtraction, multiplication, and division."
      ],
      "metadata": {
        "id": "9mROfF7HE30y"
      }
    },
    {
      "cell_type": "code",
      "source": [
        "import numpy as np\n",
        "\n",
        "# Create two 2D NumPy arrays\n",
        "array1 = np.array([[1, 2], [3, 4]])\n",
        "array2 = np.array([[5, 6], [7, 8]])\n",
        "\n",
        "# Perform element-wise addition\n",
        "addition = array1 + array2\n",
        "print(\"Addition:\")\n",
        "print(addition)\n",
        "\n",
        "# Perform element-wise subtraction\n",
        "subtraction = array1 - array2\n",
        "print(\"Subtraction:\")\n",
        "print(subtraction)\n",
        "\n",
        "# Perform element-wise multiplication\n",
        "multiplication = array1 * array2\n",
        "print(\"Multiplication:\")\n",
        "print(multiplication)\n",
        "\n",
        "# Perform element-wise division\n",
        "division = array1 / array2\n",
        "print(\"Division:\")\n",
        "print(division)\n"
      ],
      "metadata": {
        "colab": {
          "base_uri": "https://localhost:8080/"
        },
        "id": "D2rVfBGEE2MX",
        "outputId": "22e6776a-d812-4a05-a672-12f89c18a884"
      },
      "execution_count": 9,
      "outputs": [
        {
          "output_type": "stream",
          "name": "stdout",
          "text": [
            "Addition:\n",
            "[[ 6  8]\n",
            " [10 12]]\n",
            "Subtraction:\n",
            "[[-4 -4]\n",
            " [-4 -4]]\n",
            "Multiplication:\n",
            "[[ 5 12]\n",
            " [21 32]]\n",
            "Division:\n",
            "[[0.2        0.33333333]\n",
            " [0.42857143 0.5       ]]\n"
          ]
        }
      ]
    },
    {
      "cell_type": "markdown",
      "source": [
        "**Q.8** Use NumPy to create a 5x5 identity matrix, then extract its diagonal elements."
      ],
      "metadata": {
        "id": "1ec1hGzcFWEy"
      }
    },
    {
      "cell_type": "code",
      "source": [
        "import numpy as np\n",
        "\n",
        "# Create a 5x5 identity matrix\n",
        "identity_matrix = np.identity(5)\n",
        "print(\"Identity Matrix:\")\n",
        "print(identity_matrix)\n",
        "\n",
        "# Extract diagonal elements\n",
        "diagonal_elements = np.diag(identity_matrix)\n",
        "print(\"Diagonal Elements:\")\n",
        "print(diagonal_elements)\n"
      ],
      "metadata": {
        "colab": {
          "base_uri": "https://localhost:8080/"
        },
        "id": "KiEyX2caFSNP",
        "outputId": "0633dee7-5af9-44a3-9f54-f9fa8358f33a"
      },
      "execution_count": 10,
      "outputs": [
        {
          "output_type": "stream",
          "name": "stdout",
          "text": [
            "Identity Matrix:\n",
            "[[1. 0. 0. 0. 0.]\n",
            " [0. 1. 0. 0. 0.]\n",
            " [0. 0. 1. 0. 0.]\n",
            " [0. 0. 0. 1. 0.]\n",
            " [0. 0. 0. 0. 1.]]\n",
            "Diagonal Elements:\n",
            "[1. 1. 1. 1. 1.]\n"
          ]
        }
      ]
    },
    {
      "cell_type": "markdown",
      "source": [
        "**Q.9** Generate a NumPy array of 100 random integers between 0 and 1000. Find and display all prime numbers in this array."
      ],
      "metadata": {
        "id": "_uwaYlyvFrOB"
      }
    },
    {
      "cell_type": "code",
      "source": [
        "import numpy as np\n",
        "\n",
        "# Generate a NumPy array of 100 random integers between 0 and 1000\n",
        "random_array = np.random.randint(0, 1001, 100)\n",
        "print(\"Random Array:\")\n",
        "print(random_array)\n",
        "\n",
        "# Function to check if a number is prime\n",
        "def is_prime(n):\n",
        "    if n <= 1:\n",
        "        return False\n",
        "    if n == 2:\n",
        "        return True\n",
        "    if n % 2 == 0:\n",
        "        return False\n",
        "    max_divisor = int(np.sqrt(n)) + 1\n",
        "    for d in range(3, max_divisor, 2):\n",
        "        if n % d == 0:\n",
        "            return False\n",
        "    return True\n",
        "\n",
        "# Find and display all prime numbers in the array\n",
        "prime_numbers = random_array[np.vectorize(is_prime)(random_array)]\n",
        "print(\"Prime Numbers:\")\n",
        "print(prime_numbers)\n",
        "\n"
      ],
      "metadata": {
        "colab": {
          "base_uri": "https://localhost:8080/"
        },
        "id": "UovecpEHFnXe",
        "outputId": "b5481173-53be-46c8-cf90-d9eee00c67a9"
      },
      "execution_count": 11,
      "outputs": [
        {
          "output_type": "stream",
          "name": "stdout",
          "text": [
            "Random Array:\n",
            "[652 884 904 934 339  43 909  15 352 119 940  58 313 895 242 392 198 725\n",
            "  28 569 521 925  33 899 541 400 201 194  94 501 274 170  13 890 775 932\n",
            " 210 314 702 342 373 814 340 165 338 827 690 238 886 139 568 274 449 442\n",
            " 138 588 525 812 783 788 513 577 751  52 435  13 240 250  22 600  14 724\n",
            " 425 505 735 633  88 840 886 430 569 392 473 414 776 856 111  66  16  63\n",
            " 552 750 607 650 123 332 788 175 827 486]\n",
            "Prime Numbers:\n",
            "[ 43 313 569 521 541  13 373 827 139 449 577 751  13 569 607 827]\n"
          ]
        }
      ]
    },
    {
      "cell_type": "markdown",
      "source": [
        "**Q.10** Create a NumPy array representing daily temperatures for a month. Calculate and display the weekly averages."
      ],
      "metadata": {
        "id": "9bERKCq4GHYX"
      }
    },
    {
      "cell_type": "code",
      "source": [
        "import numpy as np\n",
        "\n",
        "# Create a NumPy array representing daily temperatures for a month (30 days)\n",
        "daily_temperatures = np.random.randint(50, 90, 30)\n",
        "print(\"Daily Temperatures:\")\n",
        "print(daily_temperatures)\n",
        "\n",
        "# Calculate weekly averages\n",
        "weekly_temperatures = [np.mean(daily_temperatures[i:i+7]) for i in range(0, 30, 7)]\n",
        "print(\"Weekly Averages:\")\n",
        "print(weekly_temperatures)\n",
        "\n"
      ],
      "metadata": {
        "colab": {
          "base_uri": "https://localhost:8080/"
        },
        "id": "PiebbjFqGBc5",
        "outputId": "5f347312-731f-4f83-a647-1f9e164abb64"
      },
      "execution_count": 12,
      "outputs": [
        {
          "output_type": "stream",
          "name": "stdout",
          "text": [
            "Daily Temperatures:\n",
            "[84 89 80 72 69 87 51 71 79 83 66 67 64 52 64 59 88 82 67 65 61 88 79 56\n",
            " 50 86 60 58 60 76]\n",
            "Weekly Averages:\n",
            "[76.0, 68.85714285714286, 69.42857142857143, 68.14285714285714, 68.0]\n"
          ]
        }
      ]
    },
    {
      "cell_type": "code",
      "source": [],
      "metadata": {
        "id": "0r-58-GoGcIo"
      },
      "execution_count": null,
      "outputs": []
    }
  ]
}